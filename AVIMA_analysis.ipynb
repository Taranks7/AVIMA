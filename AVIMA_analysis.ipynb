{
 "cells": [
  {
   "cell_type": "code",
   "execution_count": 11,
   "id": "af8518f8-249b-499b-aff3-96fbb23815f0",
   "metadata": {},
   "outputs": [
    {
     "name": "stdout",
     "output_type": "stream",
     "text": [
      "Requirement already satisfied: seaborn in c:\\users\\tks086\\anaconda3\\envs\\mne\\lib\\site-packages (0.11.1)\n",
      "Requirement already satisfied: numpy>=1.15 in c:\\users\\tks086\\anaconda3\\envs\\mne\\lib\\site-packages (from seaborn) (1.21.1)\n",
      "Requirement already satisfied: matplotlib>=2.2 in c:\\users\\tks086\\anaconda3\\envs\\mne\\lib\\site-packages (from seaborn) (3.4.2)\n",
      "Requirement already satisfied: pandas>=0.23 in c:\\users\\tks086\\anaconda3\\envs\\mne\\lib\\site-packages (from seaborn) (1.3.1)\n",
      "Requirement already satisfied: scipy>=1.0 in c:\\users\\tks086\\anaconda3\\envs\\mne\\lib\\site-packages (from seaborn) (1.7.1)\n",
      "Requirement already satisfied: cycler>=0.10 in c:\\users\\tks086\\anaconda3\\envs\\mne\\lib\\site-packages (from matplotlib>=2.2->seaborn) (0.10.0)\n",
      "Requirement already satisfied: kiwisolver>=1.0.1 in c:\\users\\tks086\\anaconda3\\envs\\mne\\lib\\site-packages (from matplotlib>=2.2->seaborn) (1.3.1)\n",
      "Requirement already satisfied: python-dateutil>=2.7 in c:\\users\\tks086\\anaconda3\\envs\\mne\\lib\\site-packages (from matplotlib>=2.2->seaborn) (2.8.2)\n",
      "Requirement already satisfied: pillow>=6.2.0 in c:\\users\\tks086\\anaconda3\\envs\\mne\\lib\\site-packages (from matplotlib>=2.2->seaborn) (8.3.1)\n",
      "Requirement already satisfied: pyparsing>=2.2.1 in c:\\users\\tks086\\anaconda3\\envs\\mne\\lib\\site-packages (from matplotlib>=2.2->seaborn) (2.4.7)\n",
      "Requirement already satisfied: six in c:\\users\\tks086\\anaconda3\\envs\\mne\\lib\\site-packages (from cycler>=0.10->matplotlib>=2.2->seaborn) (1.16.0)\n",
      "Requirement already satisfied: pytz>=2017.3 in c:\\users\\tks086\\anaconda3\\envs\\mne\\lib\\site-packages (from pandas>=0.23->seaborn) (2021.1)\n",
      "Requirement already satisfied: rsatoolbox in c:\\users\\tks086\\anaconda3\\envs\\mne\\lib\\site-packages (0.0.2)\n",
      "Requirement already satisfied: numpy in c:\\users\\tks086\\anaconda3\\envs\\mne\\lib\\site-packages (from rsatoolbox) (1.21.1)\n",
      "Requirement already satisfied: scipy in c:\\users\\tks086\\anaconda3\\envs\\mne\\lib\\site-packages (from rsatoolbox) (1.7.1)\n",
      "Requirement already satisfied: scikit-image in c:\\users\\tks086\\anaconda3\\envs\\mne\\lib\\site-packages (from rsatoolbox) (0.18.2)\n",
      "Requirement already satisfied: h5py in c:\\users\\tks086\\anaconda3\\envs\\mne\\lib\\site-packages (from rsatoolbox) (3.3.0)\n",
      "Requirement already satisfied: tqdm in c:\\users\\tks086\\anaconda3\\envs\\mne\\lib\\site-packages (from rsatoolbox) (4.62.0)\n",
      "Requirement already satisfied: coverage in c:\\users\\tks086\\anaconda3\\envs\\mne\\lib\\site-packages (from rsatoolbox) (5.5)\n",
      "Requirement already satisfied: matplotlib in c:\\users\\tks086\\anaconda3\\envs\\mne\\lib\\site-packages (from rsatoolbox) (3.4.2)\n",
      "Requirement already satisfied: joblib in c:\\users\\tks086\\anaconda3\\envs\\mne\\lib\\site-packages (from rsatoolbox) (1.0.1)\n",
      "Requirement already satisfied: scikit-learn in c:\\users\\tks086\\anaconda3\\envs\\mne\\lib\\site-packages (from rsatoolbox) (0.24.2)\n",
      "Requirement already satisfied: pillow>=6.2.0 in c:\\users\\tks086\\anaconda3\\envs\\mne\\lib\\site-packages (from matplotlib->rsatoolbox) (8.3.1)\n",
      "Requirement already satisfied: cycler>=0.10 in c:\\users\\tks086\\anaconda3\\envs\\mne\\lib\\site-packages (from matplotlib->rsatoolbox) (0.10.0)\n",
      "Requirement already satisfied: pyparsing>=2.2.1 in c:\\users\\tks086\\anaconda3\\envs\\mne\\lib\\site-packages (from matplotlib->rsatoolbox) (2.4.7)\n",
      "Requirement already satisfied: kiwisolver>=1.0.1 in c:\\users\\tks086\\anaconda3\\envs\\mne\\lib\\site-packages (from matplotlib->rsatoolbox) (1.3.1)\n",
      "Requirement already satisfied: python-dateutil>=2.7 in c:\\users\\tks086\\anaconda3\\envs\\mne\\lib\\site-packages (from matplotlib->rsatoolbox) (2.8.2)\n",
      "Requirement already satisfied: six in c:\\users\\tks086\\anaconda3\\envs\\mne\\lib\\site-packages (from cycler>=0.10->matplotlib->rsatoolbox) (1.16.0)\n",
      "Requirement already satisfied: networkx>=2.0 in c:\\users\\tks086\\anaconda3\\envs\\mne\\lib\\site-packages (from scikit-image->rsatoolbox) (2.5)\n",
      "Requirement already satisfied: imageio>=2.3.0 in c:\\users\\tks086\\anaconda3\\envs\\mne\\lib\\site-packages (from scikit-image->rsatoolbox) (2.9.0)\n",
      "Requirement already satisfied: tifffile>=2019.7.26 in c:\\users\\tks086\\anaconda3\\envs\\mne\\lib\\site-packages (from scikit-image->rsatoolbox) (2021.8.8)\n",
      "Requirement already satisfied: PyWavelets>=1.1.1 in c:\\users\\tks086\\anaconda3\\envs\\mne\\lib\\site-packages (from scikit-image->rsatoolbox) (1.1.1)\n",
      "Requirement already satisfied: decorator>=4.3.0 in c:\\users\\tks086\\anaconda3\\envs\\mne\\lib\\site-packages (from networkx>=2.0->scikit-image->rsatoolbox) (5.0.9)\n",
      "Requirement already satisfied: threadpoolctl>=2.0.0 in c:\\users\\tks086\\anaconda3\\envs\\mne\\lib\\site-packages (from scikit-learn->rsatoolbox) (2.2.0)\n",
      "Requirement already satisfied: colorama in c:\\users\\tks086\\anaconda3\\envs\\mne\\lib\\site-packages (from tqdm->rsatoolbox) (0.4.4)\n"
     ]
    }
   ],
   "source": [
    "# installations \n",
    "import sys\n",
    "!{sys.executable} -m pip install seaborn\n",
    "!{sys.executable} -m pip install rsatoolbox"
   ]
  },
  {
   "cell_type": "code",
   "execution_count": 12,
   "id": "36506e75-fa72-4510-9144-8a8bac559ec6",
   "metadata": {},
   "outputs": [],
   "source": [
    "import matplotlib\n",
    "import matplotlib.pyplot as plt\n",
    "from matplotlib.offsetbox import OffsetImage, AnnotationBbox\n",
    "import pathlib\n",
    "import pandas as pd\n",
    "import numpy as np\n",
    "import seaborn as sns\n",
    "import scipy\n",
    "import scipy.io \n",
    "from scipy.io import loadmat\n",
    "from scipy.spatial.distance import pdist, squareform\n",
    "import json\n",
    "from PIL import Image\n",
    "import mne\n",
    "import rsatoolbox as rsa\n",
    "import rsatoolbox.data as rsa_data\n",
    "import rsatoolbox.rdm as rdm\n",
    "import rsatoolbox.vis as vis\n",
    "import rsatoolbox.io as io\n",
    "from rsatoolbox.io import meadows\n",
    "from rsatoolbox.vis import rdm_plot\n",
    "from rsatoolbox.rdm import rdms"
   ]
  },
  {
   "cell_type": "code",
   "execution_count": 3,
   "id": "6f944efc-20b5-4fa9-8ffc-1de4e045f689",
   "metadata": {},
   "outputs": [],
   "source": [
    "#matplotlib.use('Qt5Agg') # use Qt5Agg backend = best choice for MNE-Python's interactive plotting functions"
   ]
  },
  {
   "cell_type": "code",
   "execution_count": 4,
   "id": "6ab2effe-a578-41f4-a555-e6f582e0594e",
   "metadata": {},
   "outputs": [
    {
     "name": "stdout",
     "output_type": "stream",
     "text": [
      "Help on package rsatoolbox:\n",
      "\n",
      "NAME\n",
      "    rsatoolbox - Top level package: Only imports and organisation\n",
      "\n",
      "PACKAGE CONTENTS\n",
      "    data (package)\n",
      "    inference (package)\n",
      "    io (package)\n",
      "    model (package)\n",
      "    rdm (package)\n",
      "    simulation (package)\n",
      "    util (package)\n",
      "    vis (package)\n",
      "\n",
      "FILE\n",
      "    c:\\users\\tks086\\anaconda3\\envs\\mne\\lib\\site-packages\\rsatoolbox\\__init__.py\n",
      "\n",
      "\n"
     ]
    }
   ],
   "source": [
    "help(rsa)"
   ]
  },
  {
   "cell_type": "code",
   "execution_count": 5,
   "id": "32b36b2a-f3c4-431a-a022-1986dbab4306",
   "metadata": {},
   "outputs": [],
   "source": [
    "# subject 1 - sessions 1 to 10 "
   ]
  },
  {
   "cell_type": "code",
   "execution_count": 6,
   "id": "23a28dc3-4edf-4247-813f-6552a58602bb",
   "metadata": {},
   "outputs": [
    {
     "data": {
      "text/html": [
       "<div>\n",
       "<style scoped>\n",
       "    .dataframe tbody tr th:only-of-type {\n",
       "        vertical-align: middle;\n",
       "    }\n",
       "\n",
       "    .dataframe tbody tr th {\n",
       "        vertical-align: top;\n",
       "    }\n",
       "\n",
       "    .dataframe thead th {\n",
       "        text-align: right;\n",
       "    }\n",
       "</style>\n",
       "<table border=\"1\" class=\"dataframe\">\n",
       "  <thead>\n",
       "    <tr style=\"text-align: right;\">\n",
       "      <th></th>\n",
       "      <th>participant_id</th>\n",
       "      <th>head_circumference</th>\n",
       "    </tr>\n",
       "  </thead>\n",
       "  <tbody>\n",
       "    <tr>\n",
       "      <th>0</th>\n",
       "      <td>pilot0</td>\n",
       "      <td>NaN</td>\n",
       "    </tr>\n",
       "    <tr>\n",
       "      <th>1</th>\n",
       "      <td>pilot1</td>\n",
       "      <td>NaN</td>\n",
       "    </tr>\n",
       "    <tr>\n",
       "      <th>2</th>\n",
       "      <td>pilot2</td>\n",
       "      <td>NaN</td>\n",
       "    </tr>\n",
       "    <tr>\n",
       "      <th>3</th>\n",
       "      <td>pilot3</td>\n",
       "      <td>59.0</td>\n",
       "    </tr>\n",
       "    <tr>\n",
       "      <th>4</th>\n",
       "      <td>01</td>\n",
       "      <td>NaN</td>\n",
       "    </tr>\n",
       "    <tr>\n",
       "      <th>5</th>\n",
       "      <td>02</td>\n",
       "      <td>NaN</td>\n",
       "    </tr>\n",
       "    <tr>\n",
       "      <th>6</th>\n",
       "      <td>03</td>\n",
       "      <td>NaN</td>\n",
       "    </tr>\n",
       "    <tr>\n",
       "      <th>7</th>\n",
       "      <td>04</td>\n",
       "      <td>NaN</td>\n",
       "    </tr>\n",
       "    <tr>\n",
       "      <th>8</th>\n",
       "      <td>05</td>\n",
       "      <td>NaN</td>\n",
       "    </tr>\n",
       "  </tbody>\n",
       "</table>\n",
       "</div>"
      ],
      "text/plain": [
       "  participant_id  head_circumference\n",
       "0         pilot0                 NaN\n",
       "1         pilot1                 NaN\n",
       "2         pilot2                 NaN\n",
       "3         pilot3                59.0\n",
       "4             01                 NaN\n",
       "5             02                 NaN\n",
       "6             03                 NaN\n",
       "7             04                 NaN\n",
       "8             05                 NaN"
      ]
     },
     "execution_count": 6,
     "metadata": {},
     "output_type": "execute_result"
    }
   ],
   "source": [
    "filepath = r\"C:\\Users\\TKS086\\data\\participants.tsv\"\n",
    "df_particpants = pd.read_csv(filepath, sep=\"\\t\") \n",
    "a = df_particpants.values\n",
    "df_particpants"
   ]
  },
  {
   "cell_type": "code",
   "execution_count": 7,
   "id": "a7efe45f-70c1-48bd-ac82-1d57e5fa8e8c",
   "metadata": {},
   "outputs": [
    {
     "data": {
      "text/plain": [
       "<pandas.io.json._json.JsonReader at 0x2941f2767c0>"
      ]
     },
     "execution_count": 7,
     "metadata": {},
     "output_type": "execute_result"
    }
   ],
   "source": [
    "data = pd.read_json('/Users/TKS086/data/dataset_description.json', lines=True, chunksize = 100)\n",
    "data"
   ]
  },
  {
   "cell_type": "code",
   "execution_count": 8,
   "id": "45f809d1-7bc7-4570-b9fa-242d503d7b72",
   "metadata": {},
   "outputs": [
    {
     "data": {
      "text/html": [
       "<div>\n",
       "<style scoped>\n",
       "    .dataframe tbody tr th:only-of-type {\n",
       "        vertical-align: middle;\n",
       "    }\n",
       "\n",
       "    .dataframe tbody tr th {\n",
       "        vertical-align: top;\n",
       "    }\n",
       "\n",
       "    .dataframe thead th {\n",
       "        text-align: right;\n",
       "    }\n",
       "</style>\n",
       "<table border=\"1\" class=\"dataframe\">\n",
       "  <thead>\n",
       "    <tr style=\"text-align: right;\">\n",
       "      <th></th>\n",
       "      <th>filename</th>\n",
       "      <th>acq_time</th>\n",
       "    </tr>\n",
       "  </thead>\n",
       "  <tbody>\n",
       "    <tr>\n",
       "      <th>0</th>\n",
       "      <td>eeg/sub-01_ses-05_task-nback_run-01_eeg.bdf</td>\n",
       "      <td>2019-09-12T16:44:23</td>\n",
       "    </tr>\n",
       "  </tbody>\n",
       "</table>\n",
       "</div>"
      ],
      "text/plain": [
       "                                      filename             acq_time\n",
       "0  eeg/sub-01_ses-05_task-nback_run-01_eeg.bdf  2019-09-12T16:44:23"
      ]
     },
     "execution_count": 8,
     "metadata": {},
     "output_type": "execute_result"
    }
   ],
   "source": [
    "# specify file location \n",
    "filepath = r\"C:\\Users\\TKS086\\data\\sub-01_ses-05_scans.tsv\"\n",
    "df = pd.read_csv(filepath, sep=\"\\t\") \n",
    "a = df.values\n",
    "df"
   ]
  },
  {
   "cell_type": "code",
   "execution_count": 9,
   "id": "a12b4d49-344c-4d8c-87e5-8d5a9d5a6ad1",
   "metadata": {},
   "outputs": [],
   "source": [
    "filepath = r\"C:\\Users\\TKS086\\data\\sub-01_ses-06_scans.tsv\"\n",
    "df = pd.read_csv(filepath, sep=\"\\t\") \n",
    "a = df.values"
   ]
  },
  {
   "cell_type": "code",
   "execution_count": 10,
   "id": "4c4161b5-f631-4bc1-bf92-eaca55d96482",
   "metadata": {},
   "outputs": [],
   "source": [
    "filepath = r\"C:\\Users\\TKS086\\data\\sub-01_ses-07_scans.tsv\"\n",
    "df = pd.read_csv(filepath, sep=\"\\t\") \n",
    "a = df.values"
   ]
  },
  {
   "cell_type": "code",
   "execution_count": 11,
   "id": "631f0c73-ec11-411c-ab86-a59ee26eab9f",
   "metadata": {},
   "outputs": [],
   "source": [
    "filepath = r\"C:\\Users\\TKS086\\data\\sub-01_ses-08_scans.tsv\"\n",
    "df = pd.read_csv(filepath, sep=\"\\t\") \n",
    "a = df.values"
   ]
  },
  {
   "cell_type": "code",
   "execution_count": 12,
   "id": "9e27ab18-0cfa-47f6-987a-ffc69a00b63f",
   "metadata": {},
   "outputs": [],
   "source": [
    "filepath = r\"C:\\Users\\TKS086\\data\\sub-01_ses-09_scans.tsv\"\n",
    "df = pd.read_csv(filepath, sep=\"\\t\") \n",
    "a = df.values"
   ]
  },
  {
   "cell_type": "code",
   "execution_count": 13,
   "id": "f40dfd62-fec1-4e07-bffa-d70223889958",
   "metadata": {},
   "outputs": [],
   "source": [
    "filepath = r\"C:\\Users\\TKS086\\data\\sub-01_ses-10_scans.tsv\"\n",
    "df = pd.read_csv(filepath, sep=\"\\t\") \n",
    "a = df.values"
   ]
  },
  {
   "cell_type": "code",
   "execution_count": 14,
   "id": "027f4e1d-1119-409d-837a-bc5ade56851c",
   "metadata": {},
   "outputs": [
    {
     "data": {
      "text/html": [
       "<div>\n",
       "<style scoped>\n",
       "    .dataframe tbody tr th:only-of-type {\n",
       "        vertical-align: middle;\n",
       "    }\n",
       "\n",
       "    .dataframe tbody tr th {\n",
       "        vertical-align: top;\n",
       "    }\n",
       "\n",
       "    .dataframe thead th {\n",
       "        text-align: right;\n",
       "    }\n",
       "</style>\n",
       "<table border=\"1\" class=\"dataframe\">\n",
       "  <thead>\n",
       "    <tr style=\"text-align: right;\">\n",
       "      <th></th>\n",
       "      <th>participant_id</th>\n",
       "      <th>n_targets</th>\n",
       "      <th>hits</th>\n",
       "      <th>false_alarms</th>\n",
       "      <th>rt</th>\n",
       "      <th>keys</th>\n",
       "      <th>head_circumference</th>\n",
       "    </tr>\n",
       "  </thead>\n",
       "  <tbody>\n",
       "    <tr>\n",
       "      <th>0</th>\n",
       "      <td>01</td>\n",
       "      <td>10</td>\n",
       "      <td>10</td>\n",
       "      <td>3</td>\n",
       "      <td>2.205460</td>\n",
       "      <td>num_add=13</td>\n",
       "      <td>NaN</td>\n",
       "    </tr>\n",
       "    <tr>\n",
       "      <th>1</th>\n",
       "      <td>01</td>\n",
       "      <td>10</td>\n",
       "      <td>9</td>\n",
       "      <td>2</td>\n",
       "      <td>2.060333</td>\n",
       "      <td>num_add=11</td>\n",
       "      <td>NaN</td>\n",
       "    </tr>\n",
       "    <tr>\n",
       "      <th>2</th>\n",
       "      <td>01</td>\n",
       "      <td>10</td>\n",
       "      <td>9</td>\n",
       "      <td>0</td>\n",
       "      <td>1.686978</td>\n",
       "      <td>num_add=9</td>\n",
       "      <td>NaN</td>\n",
       "    </tr>\n",
       "    <tr>\n",
       "      <th>3</th>\n",
       "      <td>01</td>\n",
       "      <td>10</td>\n",
       "      <td>6</td>\n",
       "      <td>2</td>\n",
       "      <td>1.767783</td>\n",
       "      <td>num_add=8</td>\n",
       "      <td>NaN</td>\n",
       "    </tr>\n",
       "    <tr>\n",
       "      <th>4</th>\n",
       "      <td>01</td>\n",
       "      <td>10</td>\n",
       "      <td>8</td>\n",
       "      <td>0</td>\n",
       "      <td>1.634375</td>\n",
       "      <td>num_add=8, f6=1</td>\n",
       "      <td>NaN</td>\n",
       "    </tr>\n",
       "    <tr>\n",
       "      <th>...</th>\n",
       "      <td>...</td>\n",
       "      <td>...</td>\n",
       "      <td>...</td>\n",
       "      <td>...</td>\n",
       "      <td>...</td>\n",
       "      <td>...</td>\n",
       "      <td>...</td>\n",
       "    </tr>\n",
       "    <tr>\n",
       "      <th>262</th>\n",
       "      <td>pilot3</td>\n",
       "      <td>10</td>\n",
       "      <td>9</td>\n",
       "      <td>0</td>\n",
       "      <td>2.537833</td>\n",
       "      <td>num_add=9</td>\n",
       "      <td>59.0</td>\n",
       "    </tr>\n",
       "    <tr>\n",
       "      <th>263</th>\n",
       "      <td>pilot3</td>\n",
       "      <td>10</td>\n",
       "      <td>9</td>\n",
       "      <td>0</td>\n",
       "      <td>1.205478</td>\n",
       "      <td>num_add=9</td>\n",
       "      <td>59.0</td>\n",
       "    </tr>\n",
       "    <tr>\n",
       "      <th>264</th>\n",
       "      <td>pilot3</td>\n",
       "      <td>10</td>\n",
       "      <td>8</td>\n",
       "      <td>0</td>\n",
       "      <td>1.451775</td>\n",
       "      <td>num_add=8</td>\n",
       "      <td>59.0</td>\n",
       "    </tr>\n",
       "    <tr>\n",
       "      <th>265</th>\n",
       "      <td>pilot3</td>\n",
       "      <td>10</td>\n",
       "      <td>10</td>\n",
       "      <td>0</td>\n",
       "      <td>1.824880</td>\n",
       "      <td>num_add=10</td>\n",
       "      <td>59.0</td>\n",
       "    </tr>\n",
       "    <tr>\n",
       "      <th>266</th>\n",
       "      <td>pilot3</td>\n",
       "      <td>10</td>\n",
       "      <td>7</td>\n",
       "      <td>0</td>\n",
       "      <td>1.884557</td>\n",
       "      <td>num_add=7</td>\n",
       "      <td>59.0</td>\n",
       "    </tr>\n",
       "  </tbody>\n",
       "</table>\n",
       "<p>267 rows × 7 columns</p>\n",
       "</div>"
      ],
      "text/plain": [
       "    participant_id  n_targets  hits  false_alarms        rt             keys  \\\n",
       "0               01         10    10             3  2.205460       num_add=13   \n",
       "1               01         10     9             2  2.060333       num_add=11   \n",
       "2               01         10     9             0  1.686978        num_add=9   \n",
       "3               01         10     6             2  1.767783        num_add=8   \n",
       "4               01         10     8             0  1.634375  num_add=8, f6=1   \n",
       "..             ...        ...   ...           ...       ...              ...   \n",
       "262         pilot3         10     9             0  2.537833        num_add=9   \n",
       "263         pilot3         10     9             0  1.205478        num_add=9   \n",
       "264         pilot3         10     8             0  1.451775        num_add=8   \n",
       "265         pilot3         10    10             0  1.824880       num_add=10   \n",
       "266         pilot3         10     7             0  1.884557        num_add=7   \n",
       "\n",
       "     head_circumference  \n",
       "0                   NaN  \n",
       "1                   NaN  \n",
       "2                   NaN  \n",
       "3                   NaN  \n",
       "4                   NaN  \n",
       "..                  ...  \n",
       "262                59.0  \n",
       "263                59.0  \n",
       "264                59.0  \n",
       "265                59.0  \n",
       "266                59.0  \n",
       "\n",
       "[267 rows x 7 columns]"
      ]
     },
     "execution_count": 14,
     "metadata": {},
     "output_type": "execute_result"
    }
   ],
   "source": [
    "filepath = r\"C:\\Users\\TKS086\\data\\nback.tsv\"\n",
    "df_nback = pd.read_csv(filepath, sep=\"\\t\") \n",
    "a = df_nback.values\n",
    "df_nback = df_nback.drop(['run', 'session', 'datetime'], axis=1) # drop coloumns \n",
    "df_nback = df_nback.rename({'subject' : 'participant_id'}, axis = 1)\n",
    "df_nback = pd.merge(df_nback, df_particpants)  # merge with participant info\n",
    "df_nback"
   ]
  },
  {
   "cell_type": "code",
   "execution_count": 15,
   "id": "15ce19ff-c448-4627-9596-610c3760d4cf",
   "metadata": {},
   "outputs": [],
   "source": [
    "sub1df = df_nback.loc[df_nback['participant_id'] == '01'] #subject 1"
   ]
  },
  {
   "cell_type": "code",
   "execution_count": 16,
   "id": "c9df0ef8-a7c1-418e-9ee2-c830ed25e433",
   "metadata": {},
   "outputs": [
    {
     "data": {
      "text/html": [
       "<div>\n",
       "<style scoped>\n",
       "    .dataframe tbody tr th:only-of-type {\n",
       "        vertical-align: middle;\n",
       "    }\n",
       "\n",
       "    .dataframe tbody tr th {\n",
       "        vertical-align: top;\n",
       "    }\n",
       "\n",
       "    .dataframe thead th {\n",
       "        text-align: right;\n",
       "    }\n",
       "</style>\n",
       "<table border=\"1\" class=\"dataframe\">\n",
       "  <thead>\n",
       "    <tr style=\"text-align: right;\">\n",
       "      <th></th>\n",
       "      <th>1567513886687</th>\n",
       "      <th>{}</th>\n",
       "    </tr>\n",
       "  </thead>\n",
       "  <tbody>\n",
       "    <tr>\n",
       "      <th>0</th>\n",
       "      <td>1567513886687</td>\n",
       "      <td>{'w': 1920, 'h': 1080}</td>\n",
       "    </tr>\n",
       "    <tr>\n",
       "      <th>1</th>\n",
       "      <td>1567513886688</td>\n",
       "      <td>{'w': 1853, 'h': 885.328125}</td>\n",
       "    </tr>\n",
       "    <tr>\n",
       "      <th>2</th>\n",
       "      <td>1567514029353</td>\n",
       "      <td>{'w': 1920, 'h': 974.6875}</td>\n",
       "    </tr>\n",
       "    <tr>\n",
       "      <th>3</th>\n",
       "      <td>1567514047302</td>\n",
       "      <td>{'y': -0.3799515981009865, 'cat': '', 'x': 0.0...</td>\n",
       "    </tr>\n",
       "    <tr>\n",
       "      <th>4</th>\n",
       "      <td>1567514050405</td>\n",
       "      <td>{'y': -0.8383082333968689, 'cat': '', 'x': -0....</td>\n",
       "    </tr>\n",
       "    <tr>\n",
       "      <th>...</th>\n",
       "      <td>...</td>\n",
       "      <td>...</td>\n",
       "    </tr>\n",
       "    <tr>\n",
       "      <th>1435</th>\n",
       "      <td>1567516607547</td>\n",
       "      <td>{'y': -0.510325622694293, 'cat': '', 'x': -0.1...</td>\n",
       "    </tr>\n",
       "    <tr>\n",
       "      <th>1436</th>\n",
       "      <td>1567516609114</td>\n",
       "      <td>{'y': 0.18160455157696875, 'cat': '', 'x': 0.5...</td>\n",
       "    </tr>\n",
       "    <tr>\n",
       "      <th>1437</th>\n",
       "      <td>1567516611033</td>\n",
       "      <td>{'y': -0.004344210018284718, 'cat': '', 'x': 0...</td>\n",
       "    </tr>\n",
       "    <tr>\n",
       "      <th>1438</th>\n",
       "      <td>1567516612569</td>\n",
       "      <td>{'y': 0.413425042076587, 'cat': '', 'x': 0.123...</td>\n",
       "    </tr>\n",
       "    <tr>\n",
       "      <th>1439</th>\n",
       "      <td>1567516613288</td>\n",
       "      <td>{}</td>\n",
       "    </tr>\n",
       "  </tbody>\n",
       "</table>\n",
       "<p>1440 rows × 2 columns</p>\n",
       "</div>"
      ],
      "text/plain": [
       "      1567513886687                                                 {}\n",
       "0     1567513886687                             {'w': 1920, 'h': 1080}\n",
       "1     1567513886688                       {'w': 1853, 'h': 885.328125}\n",
       "2     1567514029353                         {'w': 1920, 'h': 974.6875}\n",
       "3     1567514047302  {'y': -0.3799515981009865, 'cat': '', 'x': 0.0...\n",
       "4     1567514050405  {'y': -0.8383082333968689, 'cat': '', 'x': -0....\n",
       "...             ...                                                ...\n",
       "1435  1567516607547  {'y': -0.510325622694293, 'cat': '', 'x': -0.1...\n",
       "1436  1567516609114  {'y': 0.18160455157696875, 'cat': '', 'x': 0.5...\n",
       "1437  1567516611033  {'y': -0.004344210018284718, 'cat': '', 'x': 0...\n",
       "1438  1567516612569  {'y': 0.413425042076587, 'cat': '', 'x': 0.123...\n",
       "1439  1567516613288                                                 {}\n",
       "\n",
       "[1440 rows x 2 columns]"
      ]
     },
     "execution_count": 16,
     "metadata": {},
     "output_type": "execute_result"
    }
   ],
   "source": [
    "filepath = r\"C:\\Users\\TKS086\\data\\Meadows_avima-audio-version1_v_v2_secure-kit_2_events.log.tsv\"\n",
    "sub1 = pd.read_csv(filepath, sep=\"\\t\") \n",
    "a = sub1.values\n",
    "sub1 = sub1.drop(['logStarted'], axis = 1)\n",
    "sub1"
   ]
  },
  {
   "cell_type": "code",
   "execution_count": 17,
   "id": "860b9804-0104-4e2e-bc3c-7391e6aae1c4",
   "metadata": {},
   "outputs": [],
   "source": [
    "sub2df = df_nback.loc[df_nback['participant_id'] == '02'] # subject 2 "
   ]
  },
  {
   "cell_type": "code",
   "execution_count": 18,
   "id": "ec8dfe03-bf3f-45ae-bd59-de8726c286a7",
   "metadata": {},
   "outputs": [],
   "source": [
    "sub3df = df_nback.loc[df_nback['participant_id'] == '03'] # subject 3"
   ]
  },
  {
   "cell_type": "code",
   "execution_count": 19,
   "id": "5f163b45-b808-4dac-9c0e-f68daaeaceaf",
   "metadata": {},
   "outputs": [],
   "source": [
    "sub4df = df_nback.loc[df_nback['participant_id'] == '04'] # subject 4"
   ]
  },
  {
   "cell_type": "code",
   "execution_count": 20,
   "id": "1e305963-88c9-45ed-91d4-de85de22e5ec",
   "metadata": {},
   "outputs": [],
   "source": [
    "sub5df = df_nback.loc[df_nback['participant_id'] == '05'] # subject 5"
   ]
  },
  {
   "cell_type": "code",
   "execution_count": 21,
   "id": "5d37c9e1-6b7e-412f-9593-acb0c8aa5731",
   "metadata": {},
   "outputs": [],
   "source": [
    "pil0df = df_nback.loc[df_nback['participant_id'] == 'pilot0'] # pilot study 0"
   ]
  },
  {
   "cell_type": "code",
   "execution_count": 22,
   "id": "eeb24613-51b0-4046-b38b-29f48b499b13",
   "metadata": {},
   "outputs": [],
   "source": [
    "pil1df = df_nback.loc[df_nback['participant_id'] == 'pilot1'] # pilot study 1"
   ]
  },
  {
   "cell_type": "code",
   "execution_count": 23,
   "id": "9aa120d9-3ad3-4d71-95f8-637bce8181e4",
   "metadata": {},
   "outputs": [],
   "source": [
    "pil2df = df_nback.loc[df_nback['participant_id'] == 'pilot2'] # pilot study 2"
   ]
  },
  {
   "cell_type": "code",
   "execution_count": 24,
   "id": "7f9999ac-177a-4c2f-a904-d893bd48d846",
   "metadata": {},
   "outputs": [],
   "source": [
    "pil3df = df_nback.loc[df_nback['participant_id'] == 'pilot3'] # pilot study 3"
   ]
  },
  {
   "cell_type": "code",
   "execution_count": 3,
   "id": "7ee6fc3c-d5e9-4d05-bbf2-e25c481a2461",
   "metadata": {},
   "outputs": [
    {
     "name": "stdout",
     "output_type": "stream",
     "text": [
      "{'__header__': b'MATLAB 5.0 MAT-file Platform: posix, Created on: Tue Sep  3 13:21:38 2019', '__version__': '1.0', '__globals__': [], 'rdmutv': array([[0.01081554, 0.03845189, 0.02836939, ..., 0.02465802, 0.01693079,\n",
      "        0.03578001]]), 'stimuli': array(['baby_laughing                   ',\n",
      "       'baby_singing                    ',\n",
      "       'beach                           ',\n",
      "       'bird_singing                    ',\n",
      "       'boxing                          ',\n",
      "       'boiling_water_with_kettle       ',\n",
      "       'bubble_wrap_popping             ',\n",
      "       'cat_meowing                     ',\n",
      "       'chainsaw_cutting                ',\n",
      "       'child_crying                    ',\n",
      "       'cow_moo                         ',\n",
      "       'donkey_braying                  ',\n",
      "       'dolphin_call                    ',\n",
      "       'drinking_sounds                 ',\n",
      "       'dot_matrix_printer              ',\n",
      "       'eating_sounds                   ',\n",
      "       'drum_roll                       ',\n",
      "       'fireplace                       ',\n",
      "       'finger_snapping                 ',\n",
      "       'glass_breaking                  ',\n",
      "       'guitar_plucking                 ',\n",
      "       'heartbeat                       ',\n",
      "       'hammer_a_nail                   ',\n",
      "       'helicopter_landing              ',\n",
      "       'horse_neighing                  ',\n",
      "       'interview                       ',\n",
      "       'kid_screaming                   ',\n",
      "       'key_open_a_door                 ',\n",
      "       'lighter                         ',\n",
      "       'male_choir                      ',\n",
      "       'lion_roar                       ',\n",
      "       'mud_bubbling                    ',\n",
      "       'person_laughing                 ',\n",
      "       'person_singing                  ',\n",
      "       'people_running                  ',\n",
      "       'person_speaking_in_natural_scene',\n",
      "       'pig_oink                        ',\n",
      "       'piano_player                    ',\n",
      "       'plane_taking_off                ',\n",
      "       'police_car_with_siren           ',\n",
      "       'rain                            ',\n",
      "       'rooster_crowing                 ',\n",
      "       'river                           ',\n",
      "       'snowfall                        ',\n",
      "       'sweep                           ',\n",
      "       'steam_train                     ',\n",
      "       'tearing_paper                   ',\n",
      "       'typing_keyboard                 ',\n",
      "       'walking_on_gravel               ',\n",
      "       'wind                            '], dtype='<U32')}\n"
     ]
    }
   ],
   "source": [
    "# load matlab files \n",
    "filepath = r\"C:\\Users\\TKS086\\Data\\Meadows_avima-audio-version1_v_v2_secure-kit_2_1D.mat\"\n",
    "securekit = scipy.io.loadmat(filepath)\n",
    "print(securekit) # we can see rdmutv"
   ]
  },
  {
   "cell_type": "code",
   "execution_count": 6,
   "id": "a6e5fdbc-08f0-4ce0-bd71-f97046eac0d3",
   "metadata": {},
   "outputs": [],
   "source": [
    "rdmutv = securekit[\"rdmutv\"]\n",
    "#rdmutv is the upper triangle so create matrix\n",
    "\n",
    "euc_dist = rdmutv.T + rdmutv - np.diag(np.diag(rdmutv))\n",
    "np.fill_diagonal(euc_dist,0, wrap=False)"
   ]
  },
  {
   "cell_type": "code",
   "execution_count": 8,
   "id": "181bea2e-1dad-4279-92df-73ea527842bb",
   "metadata": {},
   "outputs": [],
   "source": [
    "stimuli = securekit[\"stimuli\"]\n",
    "stim = pd.Series(stimuli)"
   ]
  },
  {
   "cell_type": "code",
   "execution_count": 18,
   "id": "162065d7-c06b-407c-9a11-9257b1fcb0eb",
   "metadata": {},
   "outputs": [
    {
     "data": {
      "image/png": "[encoded data removed]",
      "text/plain": [
       "<Figure size 1800x1800 with 3 Axes>"
      ]
     },
     "metadata": {
      "needs_background": "light"
     },
     "output_type": "display_data"
    }
   ],
   "source": [
    "rdms = rsa.io.meadows.load_rdms(filepath)\n",
    "#print(rdms)\n",
    "fig,_,_ = rsa.vis.show_rdm(rdms, figsize=(25,25), show_colorbar=\"figure\")"
   ]
  },
  {
   "cell_type": "code",
   "execution_count": null,
   "id": "ca07c1b5-248f-4c7a-9a7b-a32026ef8811",
   "metadata": {},
   "outputs": [],
   "source": []
  },
  {
   "cell_type": "code",
   "execution_count": null,
   "id": "f92512c2-62d7-4817-b05f-61bce67b128f",
   "metadata": {},
   "outputs": [],
   "source": []
  }
 ],
 "metadata": {
  "kernelspec": {
   "display_name": "Python 3 (ipykernel)",
   "language": "python",
   "name": "python3"
  },
  "language_info": {
   "codemirror_mode": {
    "name": "ipython",
    "version": 3
   },
   "file_extension": ".py",
   "mimetype": "text/x-python",
   "name": "python",
   "nbconvert_exporter": "python",
   "pygments_lexer": "ipython3",
   "version": "3.9.6"
  }
 },
 "nbformat": 4,
 "nbformat_minor": 5
}
