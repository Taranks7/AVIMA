{
  "nbformat": 4,
  "nbformat_minor": 0,
  "metadata": {
    "colab": {
      "name": "AVIMA_analysis.ipynb",
      "provenance": [],
      "collapsed_sections": [],
      "authorship_tag": "ABX9TyP3xAeps5fpSv73Y27QACoK",
      "include_colab_link": true
    },
    "kernelspec": {
      "name": "python3",
      "display_name": "Python 3"
    },
    "language_info": {
      "name": "python"
    },
    "widgets": {
      "application/vnd.jupyter.widget-state+json": {
        "6290c360e2c84eab89319191e115baee": {
          "model_module": "@jupyter-widgets/controls",
          "model_name": "HBoxModel",
          "state": {
            "_view_name": "HBoxView",
            "_dom_classes": [],
            "_model_name": "HBoxModel",
            "_view_module": "@jupyter-widgets/controls",
            "_model_module_version": "1.5.0",
            "_view_count": null,
            "_view_module_version": "1.5.0",
            "box_style": "",
            "layout": "IPY_MODEL_2111344b49e84226a78fce71f8e8cf1a",
            "_model_module": "@jupyter-widgets/controls",
            "children": [
              "IPY_MODEL_56513ae5b06245e29c0cbf527f823fcc",
              "IPY_MODEL_09f025d89b83491798c8cc1067d4cb5a"
            ]
          }
        },
        "2111344b49e84226a78fce71f8e8cf1a": {
          "model_module": "@jupyter-widgets/base",
          "model_name": "LayoutModel",
          "state": {
            "_view_name": "LayoutView",
            "grid_template_rows": null,
            "right": null,
            "justify_content": null,
            "_view_module": "@jupyter-widgets/base",
            "overflow": null,
            "_model_module_version": "1.2.0",
            "_view_count": null,
            "flex_flow": null,
            "width": null,
            "min_width": null,
            "border": null,
            "align_items": null,
            "bottom": null,
            "_model_module": "@jupyter-widgets/base",
            "top": null,
            "grid_column": null,
            "overflow_y": null,
            "overflow_x": null,
            "grid_auto_flow": null,
            "grid_area": null,
            "grid_template_columns": null,
            "flex": null,
            "_model_name": "LayoutModel",
            "justify_items": null,
            "grid_row": null,
            "max_height": null,
            "align_content": null,
            "visibility": null,
            "align_self": null,
            "height": null,
            "min_height": null,
            "padding": null,
            "grid_auto_rows": null,
            "grid_gap": null,
            "max_width": null,
            "order": null,
            "_view_module_version": "1.2.0",
            "grid_template_areas": null,
            "object_position": null,
            "object_fit": null,
            "grid_auto_columns": null,
            "margin": null,
            "display": null,
            "left": null
          }
        },
        "56513ae5b06245e29c0cbf527f823fcc": {
          "model_module": "@jupyter-widgets/controls",
          "model_name": "FloatProgressModel",
          "state": {
            "_view_name": "ProgressView",
            "style": "IPY_MODEL_4c52ee4bd35a4d98bb2ec673fcb7b006",
            "_dom_classes": [],
            "description": "100%",
            "_model_name": "FloatProgressModel",
            "bar_style": "success",
            "max": 1652769680,
            "_view_module": "@jupyter-widgets/controls",
            "_model_module_version": "1.5.0",
            "value": 1652769680,
            "_view_count": null,
            "_view_module_version": "1.5.0",
            "orientation": "horizontal",
            "min": 0,
            "description_tooltip": null,
            "_model_module": "@jupyter-widgets/controls",
            "layout": "IPY_MODEL_1fca164b26a643eb883c0fe1ad894706"
          }
        },
        "09f025d89b83491798c8cc1067d4cb5a": {
          "model_module": "@jupyter-widgets/controls",
          "model_name": "HTMLModel",
          "state": {
            "_view_name": "HTMLView",
            "style": "IPY_MODEL_9c5faf52c49f402d8b3f02579c32335d",
            "_dom_classes": [],
            "description": "",
            "_model_name": "HTMLModel",
            "placeholder": "​",
            "_view_module": "@jupyter-widgets/controls",
            "_model_module_version": "1.5.0",
            "value": " Downloading : 1.54G/1.54G [01:25&lt;00:00,    19.3MB/s]",
            "_view_count": null,
            "_view_module_version": "1.5.0",
            "description_tooltip": null,
            "_model_module": "@jupyter-widgets/controls",
            "layout": "IPY_MODEL_b35e817c0b3c45d59296b1a3cf741590"
          }
        },
        "4c52ee4bd35a4d98bb2ec673fcb7b006": {
          "model_module": "@jupyter-widgets/controls",
          "model_name": "ProgressStyleModel",
          "state": {
            "_view_name": "StyleView",
            "_model_name": "ProgressStyleModel",
            "description_width": "initial",
            "_view_module": "@jupyter-widgets/base",
            "_model_module_version": "1.5.0",
            "_view_count": null,
            "_view_module_version": "1.2.0",
            "bar_color": null,
            "_model_module": "@jupyter-widgets/controls"
          }
        },
        "1fca164b26a643eb883c0fe1ad894706": {
          "model_module": "@jupyter-widgets/base",
          "model_name": "LayoutModel",
          "state": {
            "_view_name": "LayoutView",
            "grid_template_rows": null,
            "right": null,
            "justify_content": null,
            "_view_module": "@jupyter-widgets/base",
            "overflow": null,
            "_model_module_version": "1.2.0",
            "_view_count": null,
            "flex_flow": null,
            "width": null,
            "min_width": null,
            "border": null,
            "align_items": null,
            "bottom": null,
            "_model_module": "@jupyter-widgets/base",
            "top": null,
            "grid_column": null,
            "overflow_y": null,
            "overflow_x": null,
            "grid_auto_flow": null,
            "grid_area": null,
            "grid_template_columns": null,
            "flex": null,
            "_model_name": "LayoutModel",
            "justify_items": null,
            "grid_row": null,
            "max_height": null,
            "align_content": null,
            "visibility": null,
            "align_self": null,
            "height": null,
            "min_height": null,
            "padding": null,
            "grid_auto_rows": null,
            "grid_gap": null,
            "max_width": null,
            "order": null,
            "_view_module_version": "1.2.0",
            "grid_template_areas": null,
            "object_position": null,
            "object_fit": null,
            "grid_auto_columns": null,
            "margin": null,
            "display": null,
            "left": null
          }
        },
        "9c5faf52c49f402d8b3f02579c32335d": {
          "model_module": "@jupyter-widgets/controls",
          "model_name": "DescriptionStyleModel",
          "state": {
            "_view_name": "StyleView",
            "_model_name": "DescriptionStyleModel",
            "description_width": "",
            "_view_module": "@jupyter-widgets/base",
            "_model_module_version": "1.5.0",
            "_view_count": null,
            "_view_module_version": "1.2.0",
            "_model_module": "@jupyter-widgets/controls"
          }
        },
        "b35e817c0b3c45d59296b1a3cf741590": {
          "model_module": "@jupyter-widgets/base",
          "model_name": "LayoutModel",
          "state": {
            "_view_name": "LayoutView",
            "grid_template_rows": null,
            "right": null,
            "justify_content": null,
            "_view_module": "@jupyter-widgets/base",
            "overflow": null,
            "_model_module_version": "1.2.0",
            "_view_count": null,
            "flex_flow": null,
            "width": null,
            "min_width": null,
            "border": null,
            "align_items": null,
            "bottom": null,
            "_model_module": "@jupyter-widgets/base",
            "top": null,
            "grid_column": null,
            "overflow_y": null,
            "overflow_x": null,
            "grid_auto_flow": null,
            "grid_area": null,
            "grid_template_columns": null,
            "flex": null,
            "_model_name": "LayoutModel",
            "justify_items": null,
            "grid_row": null,
            "max_height": null,
            "align_content": null,
            "visibility": null,
            "align_self": null,
            "height": null,
            "min_height": null,
            "padding": null,
            "grid_auto_rows": null,
            "grid_gap": null,
            "max_width": null,
            "order": null,
            "_view_module_version": "1.2.0",
            "grid_template_areas": null,
            "object_position": null,
            "object_fit": null,
            "grid_auto_columns": null,
            "margin": null,
            "display": null,
            "left": null
          }
        }
      }
    }
  },
  "cells": [
    {
      "cell_type": "markdown",
      "metadata": {
        "id": "view-in-github",
        "colab_type": "text"
      },
      "source": [
        "<a href=\"https://colab.research.google.com/github/Taranks7/Audio-visual_similarity/blob/main/AVIMA_analysis.ipynb\" target=\"_parent\"><img src=\"https://colab.research.google.com/assets/colab-badge.svg\" alt=\"Open In Colab\"/></a>"
      ]
    },
    {
      "cell_type": "markdown",
      "metadata": {
        "id": "Q1B4hN2fP-7z"
      },
      "source": [
        "Import Packages "
      ]
    },
    {
      "cell_type": "code",
      "metadata": {
        "colab": {
          "base_uri": "https://localhost:8080/"
        },
        "id": "DLy4FksFQBs9",
        "outputId": "1fb48f76-0c8c-4b98-ff8e-311758794a92"
      },
      "source": [
        "import matplotlib\n",
        "import pathlib\n",
        "import pandas as pd\n",
        "import json\n",
        "import sys\n",
        "!{sys.executable} -m pip install mne\n",
        "import mne\n"
      ],
      "execution_count": 26,
      "outputs": [
        {
          "output_type": "stream",
          "text": [
            "Requirement already satisfied: mne in /usr/local/lib/python3.7/dist-packages (0.23.0)\n",
            "Requirement already satisfied: scipy>=1.1.0 in /usr/local/lib/python3.7/dist-packages (from mne) (1.4.1)\n",
            "Requirement already satisfied: numpy>=1.15.4 in /usr/local/lib/python3.7/dist-packages (from mne) (1.19.5)\n"
          ],
          "name": "stdout"
        }
      ]
    },
    {
      "cell_type": "code",
      "metadata": {
        "id": "hNk6B32lDdsD"
      },
      "source": [
        "matplotlib.use('Qt5Agg') # use Qt5Agg backend = best choice for MNE-Python's interactive plotting functions\n"
      ],
      "execution_count": null,
      "outputs": []
    },
    {
      "cell_type": "markdown",
      "metadata": {
        "id": "RZIGQ54bD1CP"
      },
      "source": [
        "Retrieve the storage location of the sample data, and download the dataset.\n",
        "\n"
      ]
    },
    {
      "cell_type": "code",
      "metadata": {
        "colab": {
          "base_uri": "https://localhost:8080/",
          "height": 273,
          "referenced_widgets": [
            "6290c360e2c84eab89319191e115baee",
            "2111344b49e84226a78fce71f8e8cf1a",
            "56513ae5b06245e29c0cbf527f823fcc",
            "09f025d89b83491798c8cc1067d4cb5a",
            "4c52ee4bd35a4d98bb2ec673fcb7b006",
            "1fca164b26a643eb883c0fe1ad894706",
            "9c5faf52c49f402d8b3f02579c32335d",
            "b35e817c0b3c45d59296b1a3cf741590"
          ]
        },
        "id": "vuo9y4-KD4E8",
        "outputId": "bcf4b574-afb3-4e01-c923-59855f02a14d"
      },
      "source": [
        "sample_data_dir = mne.datasets.sample.data_path() # MEG and EEG recordings of audio-visual data\n",
        "\n",
        "# Convert to a pathlib.Path\n",
        "sample_data_dir = pathlib.Path(sample_data_dir)\n",
        "sample_data_dir"
      ],
      "execution_count": null,
      "outputs": [
        {
          "output_type": "stream",
          "text": [
            "Using default location ~/mne_data for sample...\n",
            "Creating ~/mne_data\n",
            "Downloading archive MNE-sample-data-processed.tar.gz to /root/mne_data\n",
            "Downloading https://files.osf.io/v1/resources/rxvq7/providers/osfstorage/59c0e26f9ad5a1025c4ab159?version=5&action=download&direct (1.54 GB)\n"
          ],
          "name": "stdout"
        },
        {
          "output_type": "display_data",
          "data": {
            "application/vnd.jupyter.widget-view+json": {
              "model_id": "6290c360e2c84eab89319191e115baee",
              "version_minor": 0,
              "version_major": 2
            },
            "text/plain": [
              "HBox(children=(FloatProgress(value=0.0, description='Downloading', max=1652769680.0, style=ProgressStyle(descr…"
            ]
          },
          "metadata": {
            "tags": []
          }
        },
        {
          "output_type": "stream",
          "text": [
            "\n",
            "Verifying hash 12b75d1cb7df9dfb4ad73ed82f61094f.\n",
            "Decompressing the archive: /root/mne_data/MNE-sample-data-processed.tar.gz\n",
            "(please be patient, this can take some time)\n",
            "Successfully extracted to: ['/root/mne_data/MNE-sample-data']\n",
            "Attempting to create new mne-python configuration file:\n",
            "/root/.mne/mne-python.json\n"
          ],
          "name": "stdout"
        },
        {
          "output_type": "execute_result",
          "data": {
            "text/plain": [
              "PosixPath('/root/mne_data/MNE-sample-data')"
            ]
          },
          "metadata": {
            "tags": []
          },
          "execution_count": 6
        }
      ]
    },
    {
      "cell_type": "code",
      "metadata": {
        "id": "OqoSbaLlEN4I",
        "colab": {
          "base_uri": "https://localhost:8080/",
          "height": 414
        },
        "outputId": "12a23680-2ff7-4e78-94ae-7fb969fa0826"
      },
      "source": [
        "raw_path = sample_data_dir / 'MEG' / 'sample' / 'sample_audvis_raw.fif'\n",
        "raw = mne.io.read_raw(raw_path)\n",
        "raw"
      ],
      "execution_count": 9,
      "outputs": [
        {
          "output_type": "stream",
          "text": [
            "Opening raw data file /root/mne_data/MNE-sample-data/MEG/sample/sample_audvis_raw.fif...\n",
            "    Read a total of 3 projection items:\n",
            "        PCA-v1 (1 x 102)  idle\n",
            "        PCA-v2 (1 x 102)  idle\n",
            "        PCA-v3 (1 x 102)  idle\n",
            "    Range : 25800 ... 192599 =     42.956 ...   320.670 secs\n",
            "Ready.\n"
          ],
          "name": "stdout"
        },
        {
          "output_type": "execute_result",
          "data": {
            "text/html": [
              "\n",
              "\n",
              "<table class=\"table table-hover\">\n",
              "    <tr>\n",
              "        <th>Measurement date</th>\n",
              "        <td>December 03, 2002  19:01:10 GMT</td>\n",
              "        \n",
              "    </tr>\n",
              "    <tr>\n",
              "        <th>Experimenter</th>\n",
              "        <td>MEG</td>\n",
              "        \n",
              "    </tr>\n",
              "        <th>Participant</th>\n",
              "<td>Unknown</td>\n",
              "    </tr>\n",
              "    <tr>\n",
              "        <th>Digitized points</th>\n",
              "        <td>146 points</td>\n",
              "    </tr>\n",
              "    <tr>\n",
              "        <th>Good channels</th>\n",
              "        <td>102 magnetometer, 203 gradiometer,\n",
              "            and 59 EEG channels</td>\n",
              "    </tr>\n",
              "    <tr>\n",
              "        <th>Bad channels</th>\n",
              "        <td>MEG 2443, EEG 053</td>\n",
              "        \n",
              "    </tr>\n",
              "    <tr>\n",
              "        <th>EOG channels</th>\n",
              "        <td>EOG 061</td>\n",
              "    </tr>\n",
              "    <tr>\n",
              "        <th>ECG channels</th>\n",
              "        <td>Not available</td>\n",
              "    <tr>\n",
              "        <th>Sampling frequency</th>\n",
              "        <td>600.61 Hz</td>\n",
              "    </tr>\n",
              "    <tr>\n",
              "        <th>Highpass</th>\n",
              "        <td>0.10 Hz</td>\n",
              "    </tr>\n",
              "     <tr>\n",
              "        <th>Lowpass</th>\n",
              "        <td>172.18 Hz</td>\n",
              "    </tr>\n",
              "\n",
              "    <tr>\n",
              "        <th>Filenames</th>\n",
              "        <td>sample_audvis_raw.fif</td>\n",
              "    </tr>\n",
              "    <tr>\n",
              "        <th>Duration</th>\n",
              "        <td>00:04:37 (HH:MM:SS)</td>\n",
              "    </tr>\n",
              "</table>\n"
            ],
            "text/plain": [
              "<Raw | sample_audvis_raw.fif, 376 x 166800 (277.7 s), ~3.3 MB, data not loaded>"
            ]
          },
          "metadata": {
            "tags": []
          },
          "execution_count": 9
        }
      ]
    },
    {
      "cell_type": "code",
      "metadata": {
        "colab": {
          "base_uri": "https://localhost:8080/",
          "height": 639
        },
        "id": "g5mvug6MZVVu",
        "outputId": "ee3989f0-4f7a-40e4-cc48-47a62ed9c983"
      },
      "source": [
        "raw.plot() # visualise"
      ],
      "execution_count": 10,
      "outputs": [
        {
          "output_type": "stream",
          "text": [
            "/usr/local/lib/python3.7/dist-packages/matplotlib/colors.py:263: VisibleDeprecationWarning: Creating an ndarray from ragged nested sequences (which is a list-or-tuple of lists-or-tuples-or ndarrays with different lengths or shapes) is deprecated. If you meant to do this, you must specify 'dtype=object' when creating the ndarray\n",
            "  c = np.array(c)\n"
          ],
          "name": "stderr"
        },
        {
          "output_type": "display_data",
          "data": {
            "image/png": "[encoded data removed]",
            "text/plain": [
              "<MNEBrowseFigure size 432x288 with 5 Axes>"
            ]
          },
          "metadata": {
            "tags": [],
            "needs_background": "light"
          }
        },
        {
          "output_type": "execute_result",
          "data": {
            "image/png": "[encoded data removed]",
            "text/plain": [
              "<MNEBrowseFigure size 432x288 with 5 Axes>"
            ]
          },
          "metadata": {
            "tags": []
          },
          "execution_count": 10
        }
      ]
    },
    {
      "cell_type": "code",
      "metadata": {
        "colab": {
          "base_uri": "https://localhost:8080/",
          "height": 422
        },
        "id": "PlE-dZ-Vcllu",
        "outputId": "a9da387e-ba72-40e4-9e1f-d89a0cb54e5b"
      },
      "source": [
        "# point to my data \n",
        "data_dir = \"/content/sub-pilot1_ses-06_task-nback_run-01_channels.tsv\"\n",
        "df=pd.read_csv(data_dir, sep='\\t')\n",
        "df"
      ],
      "execution_count": 23,
      "outputs": [
        {
          "output_type": "execute_result",
          "data": {
            "text/html": [
              "<div>\n",
              "<style scoped>\n",
              "    .dataframe tbody tr th:only-of-type {\n",
              "        vertical-align: middle;\n",
              "    }\n",
              "\n",
              "    .dataframe tbody tr th {\n",
              "        vertical-align: top;\n",
              "    }\n",
              "\n",
              "    .dataframe thead th {\n",
              "        text-align: right;\n",
              "    }\n",
              "</style>\n",
              "<table border=\"1\" class=\"dataframe\">\n",
              "  <thead>\n",
              "    <tr style=\"text-align: right;\">\n",
              "      <th></th>\n",
              "      <th>name</th>\n",
              "      <th>type</th>\n",
              "      <th>units</th>\n",
              "      <th>status</th>\n",
              "    </tr>\n",
              "  </thead>\n",
              "  <tbody>\n",
              "    <tr>\n",
              "      <th>0</th>\n",
              "      <td>A1</td>\n",
              "      <td>EEG</td>\n",
              "      <td>V</td>\n",
              "      <td>good</td>\n",
              "    </tr>\n",
              "    <tr>\n",
              "      <th>1</th>\n",
              "      <td>A2</td>\n",
              "      <td>EEG</td>\n",
              "      <td>V</td>\n",
              "      <td>good</td>\n",
              "    </tr>\n",
              "    <tr>\n",
              "      <th>2</th>\n",
              "      <td>A3</td>\n",
              "      <td>EEG</td>\n",
              "      <td>V</td>\n",
              "      <td>good</td>\n",
              "    </tr>\n",
              "    <tr>\n",
              "      <th>3</th>\n",
              "      <td>A4</td>\n",
              "      <td>EEG</td>\n",
              "      <td>V</td>\n",
              "      <td>good</td>\n",
              "    </tr>\n",
              "    <tr>\n",
              "      <th>4</th>\n",
              "      <td>A5</td>\n",
              "      <td>EEG</td>\n",
              "      <td>V</td>\n",
              "      <td>good</td>\n",
              "    </tr>\n",
              "    <tr>\n",
              "      <th>...</th>\n",
              "      <td>...</td>\n",
              "      <td>...</td>\n",
              "      <td>...</td>\n",
              "      <td>...</td>\n",
              "    </tr>\n",
              "    <tr>\n",
              "      <th>132</th>\n",
              "      <td>EXG5</td>\n",
              "      <td>MISC</td>\n",
              "      <td>NaN</td>\n",
              "      <td>good</td>\n",
              "    </tr>\n",
              "    <tr>\n",
              "      <th>133</th>\n",
              "      <td>EXG6</td>\n",
              "      <td>MISC</td>\n",
              "      <td>NaN</td>\n",
              "      <td>good</td>\n",
              "    </tr>\n",
              "    <tr>\n",
              "      <th>134</th>\n",
              "      <td>EXG7</td>\n",
              "      <td>MISC</td>\n",
              "      <td>NaN</td>\n",
              "      <td>good</td>\n",
              "    </tr>\n",
              "    <tr>\n",
              "      <th>135</th>\n",
              "      <td>EXG8</td>\n",
              "      <td>MISC</td>\n",
              "      <td>NaN</td>\n",
              "      <td>good</td>\n",
              "    </tr>\n",
              "    <tr>\n",
              "      <th>136</th>\n",
              "      <td>Status</td>\n",
              "      <td>TRIG</td>\n",
              "      <td>int</td>\n",
              "      <td>good</td>\n",
              "    </tr>\n",
              "  </tbody>\n",
              "</table>\n",
              "<p>137 rows × 4 columns</p>\n",
              "</div>"
            ],
            "text/plain": [
              "       name  type units status\n",
              "0        A1   EEG     V   good\n",
              "1        A2   EEG     V   good\n",
              "2        A3   EEG     V   good\n",
              "3        A4   EEG     V   good\n",
              "4        A5   EEG     V   good\n",
              "..      ...   ...   ...    ...\n",
              "132    EXG5  MISC   NaN   good\n",
              "133    EXG6  MISC   NaN   good\n",
              "134    EXG7  MISC   NaN   good\n",
              "135    EXG8  MISC   NaN   good\n",
              "136  Status  TRIG   int   good\n",
              "\n",
              "[137 rows x 4 columns]"
            ]
          },
          "metadata": {
            "tags": []
          },
          "execution_count": 23
        }
      ]
    },
    {
      "cell_type": "code",
      "metadata": {
        "colab": {
          "base_uri": "https://localhost:8080/"
        },
        "id": "XzMdeRNTgC0B",
        "outputId": "d19cc0df-3140-4fc1-966b-676206b32c0d"
      },
      "source": [
        "json_file = \"sub-pilot1_ses-06_task-nback_run-01_eeg.json\"\n",
        "with open(json_file, 'r') as file:\n",
        "     ses6_json = json.load(file)\n",
        "\n",
        "ses6_json"
      ],
      "execution_count": 30,
      "outputs": [
        {
          "output_type": "execute_result",
          "data": {
            "text/plain": [
              "{'CapManufacturer': 'Biosemi',\n",
              " 'ECGChannelCount': 0,\n",
              " 'EEGChannelCount': 128,\n",
              " 'EEGGround': 'CMS and DRL in central positions in cap (active electrode system)',\n",
              " 'EEGPlacementScheme': 'ABCD',\n",
              " 'EEGReference': 'Mastoids; left (EXG1) and right (EXG2)',\n",
              " 'EMGChannelCount': 0,\n",
              " 'EOGChannelCount': 1,\n",
              " 'InstitutionAddress': 'Birmingham B15 2TT, UK',\n",
              " 'InstitutionName': 'School of Psychology, University of Birmingham',\n",
              " 'Manufacturer': 'Biosemi',\n",
              " 'ManufacturersModelName': 'ActiveTwo',\n",
              " 'MiscChannelCount': 5,\n",
              " 'PowerLineFrequency': 50,\n",
              " 'RecordingDuration': 5368.9990234375,\n",
              " 'RecordingType': 'continuous',\n",
              " 'SamplingFrequency': 1024,\n",
              " 'SoftwareFilters': 'n/a',\n",
              " 'TaskName': 'nback',\n",
              " 'TriggerChannelCount': 1}"
            ]
          },
          "metadata": {
            "tags": []
          },
          "execution_count": 30
        }
      ]
    }
  ]
}